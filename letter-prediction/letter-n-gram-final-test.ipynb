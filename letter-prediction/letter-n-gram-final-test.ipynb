{
 "cells": [
  {
   "cell_type": "markdown",
   "metadata": {},
   "source": [
    "# **Final N-gram model Prediction**\n",
    "\n",
    "After testing the majority voting algorithm, we discussed the possibility of hitting a plateau for such a simple model.\n",
    "\n",
    "Also, we concluded that, in a language, it is mandatory that the set of words is finite. Should we worry about overfitting to split the dataset? From the moment we have a big population of combination of prefixes, the samples might not be necessary. If we remove the most frequent words, we are not avoiding overfitting, but we are removing important data.\n",
    "\n",
    "Therefore, for a last test, we are going to approach creating a final dataset with a big conversational vocab, and smooth it with a sort of \"Laplace smoothing\", by also scanning the most frequent words of the language once. Then, we will test by training with a split, and then without to see the effects of \"overfitting\"."
   ]
  },
  {
   "cell_type": "code",
   "execution_count": 1,
   "metadata": {},
   "outputs": [],
   "source": [
    "import numpy as np\n",
    "import pandas as pd"
   ]
  },
  {
   "cell_type": "markdown",
   "metadata": {},
   "source": [
    "For our conversational dataset, I'll use the [Movie Dialog Corpus](https://www.kaggle.com/datasets/Cornell-University/movie-dialog-corpus?select=movie_lines.tsv) from Kaggle. Please download the `movie_lines.tsv` file and place it in the `data/raw` folder."
   ]
  },
  {
   "cell_type": "code",
   "execution_count": 10,
   "metadata": {},
   "outputs": [
    {
     "name": "stderr",
     "output_type": "stream",
     "text": [
      "C:\\Users\\neodr\\AppData\\Local\\Temp\\ipykernel_5548\\3843951092.py:2: ParserWarning: Skipping line 32288: expected 5 fields, saw 7\n",
      "Skipping line 32351: expected 5 fields, saw 6\n",
      "Skipping line 32390: expected 5 fields, saw 6\n",
      "Skipping line 32583: expected 5 fields, saw 6\n",
      "Skipping line 32585: expected 5 fields, saw 6\n",
      "Skipping line 35684: expected 5 fields, saw 6\n",
      "Skipping line 62132: expected 5 fields, saw 6\n",
      "Skipping line 86637: expected 5 fields, saw 6\n",
      "Skipping line 86722: expected 5 fields, saw 6\n",
      "Skipping line 86914: expected 5 fields, saw 6\n",
      "Skipping line 86960: expected 5 fields, saw 6\n",
      "Skipping line 87010: expected 5 fields, saw 6\n",
      "Skipping line 87011: expected 5 fields, saw 6\n",
      "Skipping line 87086: expected 5 fields, saw 6\n",
      "Skipping line 120607: expected 5 fields, saw 6\n",
      "Skipping line 120719: expected 5 fields, saw 7\n",
      "Skipping line 120739: expected 5 fields, saw 6\n",
      "Skipping line 120783: expected 5 fields, saw 6\n",
      "Skipping line 130284: expected 5 fields, saw 7\n",
      "Skipping line 131048: expected 5 fields, saw 6\n",
      "\n",
      "  df_movies = pd.read_csv('../data/raw/movie_lines.tsv', sep='\\t', on_bad_lines='warn', names=['lineID', 'characterID', 'movieID', 'character', 'text'])\n",
      "C:\\Users\\neodr\\AppData\\Local\\Temp\\ipykernel_5548\\3843951092.py:2: ParserWarning: Skipping line 150955: expected 5 fields, saw 8\n",
      "Skipping line 162777: expected 5 fields, saw 11\n",
      "Skipping line 162778: expected 5 fields, saw 11\n",
      "Skipping line 162830: expected 5 fields, saw 9\n",
      "Skipping line 162864: expected 5 fields, saw 11\n",
      "Skipping line 162883: expected 5 fields, saw 8\n",
      "Skipping line 190170: expected 5 fields, saw 6\n",
      "Skipping line 195924: expected 5 fields, saw 6\n",
      "Skipping line 196054: expected 5 fields, saw 6\n",
      "Skipping line 196088: expected 5 fields, saw 6\n",
      "Skipping line 200335: expected 5 fields, saw 6\n",
      "Skipping line 200453: expected 5 fields, saw 6\n",
      "Skipping line 200863: expected 5 fields, saw 6\n",
      "Skipping line 200913: expected 5 fields, saw 6\n",
      "Skipping line 200934: expected 5 fields, saw 6\n",
      "Skipping line 200991: expected 5 fields, saw 6\n",
      "Skipping line 209214: expected 5 fields, saw 6\n",
      "Skipping line 209271: expected 5 fields, saw 6\n",
      "Skipping line 212476: expected 5 fields, saw 17\n",
      "Skipping line 212477: expected 5 fields, saw 12\n",
      "Skipping line 212490: expected 5 fields, saw 12\n",
      "Skipping line 212493: expected 5 fields, saw 10\n",
      "Skipping line 212514: expected 5 fields, saw 9\n",
      "Skipping line 212515: expected 5 fields, saw 12\n",
      "Skipping line 212556: expected 5 fields, saw 12\n",
      "Skipping line 212562: expected 5 fields, saw 8\n",
      "Skipping line 212567: expected 5 fields, saw 12\n",
      "Skipping line 212575: expected 5 fields, saw 12\n",
      "Skipping line 212582: expected 5 fields, saw 14\n",
      "Skipping line 212595: expected 5 fields, saw 11\n",
      "Skipping line 212600: expected 5 fields, saw 8\n",
      "Skipping line 212652: expected 5 fields, saw 11\n",
      "Skipping line 212655: expected 5 fields, saw 8\n",
      "Skipping line 212696: expected 5 fields, saw 9\n",
      "Skipping line 212700: expected 5 fields, saw 35\n",
      "Skipping line 212704: expected 5 fields, saw 9\n",
      "Skipping line 212736: expected 5 fields, saw 26\n",
      "Skipping line 212737: expected 5 fields, saw 12\n",
      "Skipping line 212738: expected 5 fields, saw 34\n",
      "Skipping line 212740: expected 5 fields, saw 7\n",
      "Skipping line 212741: expected 5 fields, saw 11\n",
      "Skipping line 212742: expected 5 fields, saw 11\n",
      "Skipping line 212743: expected 5 fields, saw 12\n",
      "Skipping line 212744: expected 5 fields, saw 11\n",
      "Skipping line 212745: expected 5 fields, saw 10\n",
      "Skipping line 212746: expected 5 fields, saw 17\n",
      "Skipping line 212747: expected 5 fields, saw 10\n",
      "Skipping line 212748: expected 5 fields, saw 21\n",
      "Skipping line 212749: expected 5 fields, saw 14\n",
      "Skipping line 212755: expected 5 fields, saw 9\n",
      "Skipping line 212756: expected 5 fields, saw 10\n",
      "Skipping line 212757: expected 5 fields, saw 14\n",
      "Skipping line 212758: expected 5 fields, saw 10\n",
      "Skipping line 212759: expected 5 fields, saw 7\n",
      "Skipping line 212760: expected 5 fields, saw 17\n",
      "Skipping line 212768: expected 5 fields, saw 9\n",
      "Skipping line 212774: expected 5 fields, saw 12\n",
      "Skipping line 212775: expected 5 fields, saw 11\n",
      "Skipping line 212784: expected 5 fields, saw 11\n",
      "Skipping line 212790: expected 5 fields, saw 29\n",
      "Skipping line 212791: expected 5 fields, saw 12\n",
      "Skipping line 212888: expected 5 fields, saw 12\n",
      "Skipping line 212895: expected 5 fields, saw 7\n",
      "Skipping line 212901: expected 5 fields, saw 8\n",
      "Skipping line 212909: expected 5 fields, saw 21\n",
      "Skipping line 212910: expected 5 fields, saw 19\n",
      "Skipping line 212912: expected 5 fields, saw 19\n",
      "Skipping line 212913: expected 5 fields, saw 14\n",
      "Skipping line 212914: expected 5 fields, saw 19\n",
      "Skipping line 212915: expected 5 fields, saw 19\n",
      "Skipping line 212916: expected 5 fields, saw 12\n",
      "Skipping line 212918: expected 5 fields, saw 18\n",
      "Skipping line 220002: expected 5 fields, saw 6\n",
      "Skipping line 223476: expected 5 fields, saw 6\n",
      "Skipping line 223670: expected 5 fields, saw 6\n",
      "Skipping line 227241: expected 5 fields, saw 6\n",
      "Skipping line 227687: expected 5 fields, saw 6\n",
      "Skipping line 227795: expected 5 fields, saw 6\n",
      "Skipping line 227850: expected 5 fields, saw 6\n",
      "Skipping line 228956: expected 5 fields, saw 6\n",
      "Skipping line 229142: expected 5 fields, saw 6\n",
      "Skipping line 229252: expected 5 fields, saw 6\n",
      "Skipping line 229283: expected 5 fields, saw 6\n",
      "Skipping line 229343: expected 5 fields, saw 6\n",
      "Skipping line 237190: expected 5 fields, saw 6\n",
      "Skipping line 237212: expected 5 fields, saw 6\n",
      "Skipping line 237475: expected 5 fields, saw 6\n",
      "Skipping line 237680: expected 5 fields, saw 6\n",
      "Skipping line 239909: expected 5 fields, saw 6\n",
      "Skipping line 242513: expected 5 fields, saw 6\n",
      "Skipping line 242621: expected 5 fields, saw 6\n",
      "Skipping line 252471: expected 5 fields, saw 10\n",
      "Skipping line 254823: expected 5 fields, saw 6\n",
      "Skipping line 257362: expected 5 fields, saw 6\n",
      "Skipping line 260304: expected 5 fields, saw 11\n",
      "Skipping line 261241: expected 5 fields, saw 11\n",
      "Skipping line 261309: expected 5 fields, saw 6\n",
      "Skipping line 261343: expected 5 fields, saw 6\n",
      "Skipping line 261432: expected 5 fields, saw 6\n",
      "Skipping line 261461: expected 5 fields, saw 6\n",
      "Skipping line 261520: expected 5 fields, saw 14\n",
      "Skipping line 261521: expected 5 fields, saw 13\n",
      "Skipping line 261525: expected 5 fields, saw 13\n",
      "Skipping line 261533: expected 5 fields, saw 6\n",
      "Skipping line 261558: expected 5 fields, saw 7\n",
      "Skipping line 261560: expected 5 fields, saw 7\n",
      "Skipping line 262063: expected 5 fields, saw 6\n",
      "Skipping line 262098: expected 5 fields, saw 6\n",
      "\n",
      "  df_movies = pd.read_csv('../data/raw/movie_lines.tsv', sep='\\t', on_bad_lines='warn', names=['lineID', 'characterID', 'movieID', 'character', 'text'])\n",
      "C:\\Users\\neodr\\AppData\\Local\\Temp\\ipykernel_5548\\3843951092.py:2: ParserWarning: Skipping line 269343: expected 5 fields, saw 6\n",
      "Skipping line 269435: expected 5 fields, saw 6\n",
      "Skipping line 278994: expected 5 fields, saw 9\n",
      "Skipping line 278995: expected 5 fields, saw 9\n",
      "Skipping line 278996: expected 5 fields, saw 15\n",
      "Skipping line 279001: expected 5 fields, saw 15\n",
      "Skipping line 279038: expected 5 fields, saw 16\n",
      "Skipping line 279040: expected 5 fields, saw 10\n",
      "Skipping line 279041: expected 5 fields, saw 19\n",
      "Skipping line 279045: expected 5 fields, saw 13\n",
      "Skipping line 279047: expected 5 fields, saw 9\n",
      "Skipping line 279058: expected 5 fields, saw 10\n",
      "Skipping line 279069: expected 5 fields, saw 11\n",
      "Skipping line 279087: expected 5 fields, saw 11\n",
      "Skipping line 279094: expected 5 fields, saw 12\n",
      "Skipping line 279116: expected 5 fields, saw 22\n",
      "Skipping line 279131: expected 5 fields, saw 16\n",
      "Skipping line 279152: expected 5 fields, saw 10\n",
      "Skipping line 279155: expected 5 fields, saw 19\n",
      "Skipping line 279159: expected 5 fields, saw 9\n",
      "Skipping line 279199: expected 5 fields, saw 36\n",
      "Skipping line 279211: expected 5 fields, saw 9\n",
      "Skipping line 279213: expected 5 fields, saw 13\n",
      "Skipping line 279214: expected 5 fields, saw 9\n",
      "Skipping line 279233: expected 5 fields, saw 14\n",
      "Skipping line 279253: expected 5 fields, saw 15\n",
      "Skipping line 279345: expected 5 fields, saw 13\n",
      "Skipping line 279346: expected 5 fields, saw 10\n",
      "Skipping line 279379: expected 5 fields, saw 9\n",
      "Skipping line 279434: expected 5 fields, saw 17\n",
      "Skipping line 279440: expected 5 fields, saw 14\n",
      "Skipping line 279442: expected 5 fields, saw 14\n",
      "Skipping line 279443: expected 5 fields, saw 10\n",
      "Skipping line 279452: expected 5 fields, saw 16\n",
      "Skipping line 279455: expected 5 fields, saw 9\n",
      "Skipping line 279456: expected 5 fields, saw 12\n",
      "Skipping line 279457: expected 5 fields, saw 10\n",
      "Skipping line 279458: expected 5 fields, saw 10\n",
      "\n",
      "  df_movies = pd.read_csv('../data/raw/movie_lines.tsv', sep='\\t', on_bad_lines='warn', names=['lineID', 'characterID', 'movieID', 'character', 'text'])\n"
     ]
    }
   ],
   "source": [
    "# read the tsv file\n",
    "df_movies = pd.read_csv('../data/raw/movie_lines.tsv', sep='\\t', on_bad_lines='warn', names=['lineID', 'characterID', 'movieID', 'character', 'text'])"
   ]
  },
  {
   "cell_type": "code",
   "execution_count": 13,
   "metadata": {},
   "outputs": [
    {
     "data": {
      "text/html": [
       "<div>\n",
       "<style scoped>\n",
       "    .dataframe tbody tr th:only-of-type {\n",
       "        vertical-align: middle;\n",
       "    }\n",
       "\n",
       "    .dataframe tbody tr th {\n",
       "        vertical-align: top;\n",
       "    }\n",
       "\n",
       "    .dataframe thead th {\n",
       "        text-align: right;\n",
       "    }\n",
       "</style>\n",
       "<table border=\"1\" class=\"dataframe\">\n",
       "  <thead>\n",
       "    <tr style=\"text-align: right;\">\n",
       "      <th></th>\n",
       "      <th>lineID</th>\n",
       "      <th>characterID</th>\n",
       "      <th>movieID</th>\n",
       "      <th>character</th>\n",
       "      <th>text</th>\n",
       "    </tr>\n",
       "  </thead>\n",
       "  <tbody>\n",
       "    <tr>\n",
       "      <th>0</th>\n",
       "      <td>L1045</td>\n",
       "      <td>u0</td>\n",
       "      <td>m0</td>\n",
       "      <td>BIANCA</td>\n",
       "      <td>They do not!</td>\n",
       "    </tr>\n",
       "    <tr>\n",
       "      <th>1</th>\n",
       "      <td>L1044</td>\n",
       "      <td>u2</td>\n",
       "      <td>m0</td>\n",
       "      <td>CAMERON</td>\n",
       "      <td>They do to!</td>\n",
       "    </tr>\n",
       "    <tr>\n",
       "      <th>2</th>\n",
       "      <td>L985</td>\n",
       "      <td>u0</td>\n",
       "      <td>m0</td>\n",
       "      <td>BIANCA</td>\n",
       "      <td>I hope so.</td>\n",
       "    </tr>\n",
       "    <tr>\n",
       "      <th>3</th>\n",
       "      <td>L984</td>\n",
       "      <td>u2</td>\n",
       "      <td>m0</td>\n",
       "      <td>CAMERON</td>\n",
       "      <td>She okay?</td>\n",
       "    </tr>\n",
       "    <tr>\n",
       "      <th>4</th>\n",
       "      <td>L925</td>\n",
       "      <td>u0</td>\n",
       "      <td>m0</td>\n",
       "      <td>BIANCA</td>\n",
       "      <td>Let's go.</td>\n",
       "    </tr>\n",
       "    <tr>\n",
       "      <th>...</th>\n",
       "      <td>...</td>\n",
       "      <td>...</td>\n",
       "      <td>...</td>\n",
       "      <td>...</td>\n",
       "      <td>...</td>\n",
       "    </tr>\n",
       "    <tr>\n",
       "      <th>95</th>\n",
       "      <td>L590</td>\n",
       "      <td>u0</td>\n",
       "      <td>m0</td>\n",
       "      <td>BIANCA</td>\n",
       "      <td>Queen Harry?</td>\n",
       "    </tr>\n",
       "    <tr>\n",
       "      <th>96</th>\n",
       "      <td>L589\\tu4\\tm0\\tJOEY\\tSo yeah I've got the Sears...</td>\n",
       "      <td>NaN</td>\n",
       "      <td>NaN</td>\n",
       "      <td>NaN</td>\n",
       "      <td>NaN</td>\n",
       "    </tr>\n",
       "    <tr>\n",
       "      <th>97</th>\n",
       "      <td>L397</td>\n",
       "      <td>u0</td>\n",
       "      <td>m0</td>\n",
       "      <td>BIANCA</td>\n",
       "      <td>Hopefully.</td>\n",
       "    </tr>\n",
       "    <tr>\n",
       "      <th>98</th>\n",
       "      <td>L396</td>\n",
       "      <td>u4</td>\n",
       "      <td>m0</td>\n",
       "      <td>JOEY</td>\n",
       "      <td>Exactly  So you going to Bogey Lowenbrau's thi...</td>\n",
       "    </tr>\n",
       "    <tr>\n",
       "      <th>99</th>\n",
       "      <td>L395</td>\n",
       "      <td>u0</td>\n",
       "      <td>m0</td>\n",
       "      <td>BIANCA</td>\n",
       "      <td>Expensive?</td>\n",
       "    </tr>\n",
       "  </tbody>\n",
       "</table>\n",
       "<p>100 rows × 5 columns</p>\n",
       "</div>"
      ],
      "text/plain": [
       "                                               lineID characterID movieID  \\\n",
       "0                                               L1045          u0      m0   \n",
       "1                                               L1044          u2      m0   \n",
       "2                                                L985          u0      m0   \n",
       "3                                                L984          u2      m0   \n",
       "4                                                L925          u0      m0   \n",
       "..                                                ...         ...     ...   \n",
       "95                                               L590          u0      m0   \n",
       "96  L589\\tu4\\tm0\\tJOEY\\tSo yeah I've got the Sears...         NaN     NaN   \n",
       "97                                               L397          u0      m0   \n",
       "98                                               L396          u4      m0   \n",
       "99                                               L395          u0      m0   \n",
       "\n",
       "   character                                               text  \n",
       "0     BIANCA                                       They do not!  \n",
       "1    CAMERON                                        They do to!  \n",
       "2     BIANCA                                         I hope so.  \n",
       "3    CAMERON                                          She okay?  \n",
       "4     BIANCA                                          Let's go.  \n",
       "..       ...                                                ...  \n",
       "95    BIANCA                                       Queen Harry?  \n",
       "96       NaN                                                NaN  \n",
       "97    BIANCA                                         Hopefully.  \n",
       "98      JOEY  Exactly  So you going to Bogey Lowenbrau's thi...  \n",
       "99    BIANCA                                         Expensive?  \n",
       "\n",
       "[100 rows x 5 columns]"
      ]
     },
     "execution_count": 13,
     "metadata": {},
     "output_type": "execute_result"
    }
   ],
   "source": [
    "df_movies.head(100)"
   ]
  },
  {
   "cell_type": "markdown",
   "metadata": {},
   "source": [
    "From 304k lines, we lost almost 10k lines due to misconfigurations in the dataset."
   ]
  },
  {
   "cell_type": "code",
   "execution_count": 12,
   "metadata": {},
   "outputs": [
    {
     "data": {
      "text/plain": [
       "(293202, 5)"
      ]
     },
     "execution_count": 12,
     "metadata": {},
     "output_type": "execute_result"
    }
   ],
   "source": [
    "df_movies.shape"
   ]
  },
  {
   "cell_type": "markdown",
   "metadata": {},
   "source": [
    "## **Data Preprocessing**\n",
    "\n",
    "First, we need to preprocess the data. We will remove the lines with missing values, remove all punctuation, all words with numbers and just repeating letters (such as \"mmmmmmm\") and lowercase all words."
   ]
  },
  {
   "cell_type": "code",
   "execution_count": 36,
   "metadata": {},
   "outputs": [],
   "source": [
    "# Remove the columns that are not needed\n",
    "df_movies_processed = df_movies.drop(columns=['lineID', 'characterID', 'movieID', 'character'])"
   ]
  },
  {
   "cell_type": "code",
   "execution_count": 37,
   "metadata": {},
   "outputs": [],
   "source": [
    "# Removing NaN values\n",
    "df_movies_processed = df_movies_processed.dropna()\n",
    "\n",
    "# Removing empty strings\n",
    "df_movies_processed = df_movies_processed[df_movies_processed['text'] != ' ']\n",
    "\n",
    "# Removing special characters but keep ' and spaces\n",
    "df_movies_processed['text'] = df_movies_processed['text'].str.replace('[^a-zA-Z0-9\\' ]', '', regex=True)\n",
    "\n",
    "# Remove \"-\"\n",
    "df_movies_processed['text'] = df_movies_processed['text'].str.replace('-', '')\n",
    "\n",
    "# lower case\n",
    "df_movies_processed['text'] = df_movies_processed['text'].str.lower()"
   ]
  },
  {
   "cell_type": "code",
   "execution_count": 38,
   "metadata": {},
   "outputs": [
    {
     "data": {
      "text/html": [
       "<div>\n",
       "<style scoped>\n",
       "    .dataframe tbody tr th:only-of-type {\n",
       "        vertical-align: middle;\n",
       "    }\n",
       "\n",
       "    .dataframe tbody tr th {\n",
       "        vertical-align: top;\n",
       "    }\n",
       "\n",
       "    .dataframe thead th {\n",
       "        text-align: right;\n",
       "    }\n",
       "</style>\n",
       "<table border=\"1\" class=\"dataframe\">\n",
       "  <thead>\n",
       "    <tr style=\"text-align: right;\">\n",
       "      <th></th>\n",
       "      <th>text</th>\n",
       "    </tr>\n",
       "  </thead>\n",
       "  <tbody>\n",
       "    <tr>\n",
       "      <th>0</th>\n",
       "      <td>they do not</td>\n",
       "    </tr>\n",
       "    <tr>\n",
       "      <th>1</th>\n",
       "      <td>they do to</td>\n",
       "    </tr>\n",
       "    <tr>\n",
       "      <th>2</th>\n",
       "      <td>i hope so</td>\n",
       "    </tr>\n",
       "    <tr>\n",
       "      <th>3</th>\n",
       "      <td>she okay</td>\n",
       "    </tr>\n",
       "    <tr>\n",
       "      <th>4</th>\n",
       "      <td>let's go</td>\n",
       "    </tr>\n",
       "    <tr>\n",
       "      <th>...</th>\n",
       "      <td>...</td>\n",
       "    </tr>\n",
       "    <tr>\n",
       "      <th>100</th>\n",
       "      <td>it's more</td>\n",
       "    </tr>\n",
       "    <tr>\n",
       "      <th>101</th>\n",
       "      <td>perm</td>\n",
       "    </tr>\n",
       "    <tr>\n",
       "      <th>102</th>\n",
       "      <td>patrick  is that a</td>\n",
       "    </tr>\n",
       "    <tr>\n",
       "      <th>103</th>\n",
       "      <td>it's just you</td>\n",
       "    </tr>\n",
       "    <tr>\n",
       "      <th>104</th>\n",
       "      <td>is that woman a complete fruitloop or is it ju...</td>\n",
       "    </tr>\n",
       "  </tbody>\n",
       "</table>\n",
       "<p>100 rows × 1 columns</p>\n",
       "</div>"
      ],
      "text/plain": [
       "                                                  text\n",
       "0                                          they do not\n",
       "1                                           they do to\n",
       "2                                            i hope so\n",
       "3                                             she okay\n",
       "4                                             let's go\n",
       "..                                                 ...\n",
       "100                                          it's more\n",
       "101                                               perm\n",
       "102                                 patrick  is that a\n",
       "103                                      it's just you\n",
       "104  is that woman a complete fruitloop or is it ju...\n",
       "\n",
       "[100 rows x 1 columns]"
      ]
     },
     "execution_count": 38,
     "metadata": {},
     "output_type": "execute_result"
    }
   ],
   "source": [
    "df_movies_processed.head(100)"
   ]
  },
  {
   "cell_type": "markdown",
   "metadata": {},
   "source": [
    "Now, let's create a list with all the words"
   ]
  },
  {
   "cell_type": "code",
   "execution_count": 39,
   "metadata": {},
   "outputs": [],
   "source": [
    "words_list = df_movies_processed['text'].str.split(' ').tolist()"
   ]
  },
  {
   "cell_type": "code",
   "execution_count": 40,
   "metadata": {},
   "outputs": [
    {
     "data": {
      "text/plain": [
       "[['they', 'do', 'not'],\n",
       " ['they', 'do', 'to'],\n",
       " ['i', 'hope', 'so'],\n",
       " ['she', 'okay'],\n",
       " [\"let's\", 'go'],\n",
       " ['wow'],\n",
       " ['okay', '', \"you're\", 'gonna', 'need', 'to', 'learn', 'how', 'to', 'lie'],\n",
       " ['no'],\n",
       " ['like', 'my', 'fear', 'of', 'wearing', 'pastels'],\n",
       " ['what', 'good', 'stuff']]"
      ]
     },
     "execution_count": 40,
     "metadata": {},
     "output_type": "execute_result"
    }
   ],
   "source": [
    "words_list[:10]"
   ]
  },
  {
   "cell_type": "code",
   "execution_count": 41,
   "metadata": {},
   "outputs": [],
   "source": [
    "words_list = [item for sublist in words_list for item in sublist]"
   ]
  },
  {
   "cell_type": "code",
   "execution_count": 42,
   "metadata": {},
   "outputs": [
    {
     "data": {
      "text/plain": [
       "['they', 'do', 'not', 'they', 'do', 'to', 'i', 'hope', 'so', 'she']"
      ]
     },
     "execution_count": 42,
     "metadata": {},
     "output_type": "execute_result"
    }
   ],
   "source": [
    "words_list[:10]"
   ]
  },
  {
   "cell_type": "markdown",
   "metadata": {},
   "source": [
    "Let's remove words that:\n",
    "\n",
    "* Appear less than 5 times  \n",
    "* Have more than 15 characters  \n",
    "* Have only one type of letter (such as \"mmmmmmm\")"
   ]
  },
  {
   "cell_type": "code",
   "execution_count": 44,
   "metadata": {},
   "outputs": [],
   "source": [
    "word_frequency = {}\n",
    "\n",
    "for word in words_list:\n",
    "    if word in word_frequency:\n",
    "        word_frequency[word] += 1\n",
    "    else:\n",
    "        word_frequency[word] = 1"
   ]
  },
  {
   "cell_type": "code",
   "execution_count": null,
   "metadata": {},
   "outputs": [],
   "source": [
    "word_frequency"
   ]
  },
  {
   "cell_type": "code",
   "execution_count": 46,
   "metadata": {},
   "outputs": [],
   "source": [
    "def preprocess(words: list[str]):\n",
    "    return list(\n",
    "        filter(\n",
    "            lambda x: x != '' and len(set(x)) > 1 and x.isalpha() and len(x) < 15 and word_frequency[x] > 5,\n",
    "            words\n",
    "        )\n",
    "    )"
   ]
  },
  {
   "cell_type": "code",
   "execution_count": 47,
   "metadata": {},
   "outputs": [],
   "source": [
    "words_list_preprocessed = preprocess(words_list)"
   ]
  },
  {
   "cell_type": "code",
   "execution_count": 48,
   "metadata": {},
   "outputs": [
    {
     "data": {
      "text/plain": [
       "(2504600, 3060706)"
      ]
     },
     "execution_count": 48,
     "metadata": {},
     "output_type": "execute_result"
    }
   ],
   "source": [
    "len(words_list_preprocessed), len(words_list)"
   ]
  },
  {
   "cell_type": "code",
   "execution_count": 49,
   "metadata": {},
   "outputs": [
    {
     "data": {
      "text/plain": [
       "['they', 'do', 'not', 'they', 'do']"
      ]
     },
     "execution_count": 49,
     "metadata": {},
     "output_type": "execute_result"
    }
   ],
   "source": [
    "words_list_preprocessed[:5]"
   ]
  },
  {
   "cell_type": "markdown",
   "metadata": {},
   "source": [
    "## **Loading Test Data**\n",
    "\n",
    "Let's utilize the same 5k most frequent words from [this file.](../data/wordFrequency.xlsx)"
   ]
  },
  {
   "cell_type": "code",
   "execution_count": 56,
   "metadata": {},
   "outputs": [
    {
     "data": {
      "text/plain": [
       "array(['the', 'to', 'and', 'of', 'a', 'in', 'i', 'that', 'you', 'it'],\n",
       "      dtype=object)"
      ]
     },
     "execution_count": 56,
     "metadata": {},
     "output_type": "execute_result"
    }
   ],
   "source": [
    "df_words = pd.read_excel('../data/wordFrequency.xlsx', sheet_name='4 forms (219k)')\n",
    "\n",
    "words = df_words['word'].values\n",
    "\n",
    "words[:10]"
   ]
  },
  {
   "cell_type": "markdown",
   "metadata": {},
   "source": [
    "Now, we are going to filter this words out of the training set."
   ]
  },
  {
   "cell_type": "code",
   "execution_count": 57,
   "metadata": {},
   "outputs": [],
   "source": [
    "words_list_training = list(filter(lambda x: x not in words, words_list_preprocessed))"
   ]
  },
  {
   "cell_type": "code",
   "execution_count": 58,
   "metadata": {},
   "outputs": [
    {
     "data": {
      "text/plain": [
       "172994"
      ]
     },
     "execution_count": 58,
     "metadata": {},
     "output_type": "execute_result"
    }
   ],
   "source": [
    "len(words_list_training)"
   ]
  },
  {
   "cell_type": "markdown",
   "metadata": {},
   "source": [
    "## Saving"
   ]
  },
  {
   "cell_type": "code",
   "execution_count": 60,
   "metadata": {},
   "outputs": [],
   "source": [
    "with open('../data/movie_lines_processed.txt', 'w') as f:\n",
    "    for word in words_list_preprocessed:\n",
    "        f.write(f'{word}\\n')"
   ]
  },
  {
   "cell_type": "code",
   "execution_count": 61,
   "metadata": {},
   "outputs": [],
   "source": [
    "with open('../data/movie_lines_filtered.txt', 'w') as f:\n",
    "    for word in words_list_training:\n",
    "        f.write(f'{word}\\n')"
   ]
  },
  {
   "cell_type": "markdown",
   "metadata": {},
   "source": [
    "# **Creating the N-grams**\n",
    "\n",
    "We are going to use the same functions already created in [this script.](parallel_generate_probs.py)\n",
    "\n",
    "Now, we are creating n-grams with the filtered set and \"with overfitting\"."
   ]
  },
  {
   "cell_type": "code",
   "execution_count": 52,
   "metadata": {},
   "outputs": [
    {
     "name": "stdout",
     "output_type": "stream",
     "text": [
      "Using 16 cores and chunk size of 156537\n",
      "Processing chunk with 156537 words\n",
      "Processing chunk with 156537 words\n",
      "Processing chunk with 156537 words\n",
      "Processing chunk with 156537 words\n",
      "Processing chunk with 156537 words\n",
      "Processing chunk with 156537 words\n",
      "Processing chunk with 156537 words\n",
      "Chunk processed with 156537 words\n",
      "Processing chunk with 156537 words\n",
      "Processing chunk with 156537 words\n",
      "Chunk processed with 156537 words\n",
      "Processing chunk with 156537 words\n",
      "Chunk processed with 156537 words\n",
      "Processing chunk with 156537 words\n",
      "Chunk processed with 156537 words\n",
      "Processing chunk with 156537 words\n",
      "Chunk processed with 156537 words\n",
      "Processing chunk with 156537 words\n",
      "Chunk processed with 156537 words\n",
      "Processing chunk with 156537 words\n",
      "Chunk processed with 156537 words\n",
      "Chunk processed with 156537 words\n",
      "Chunk processed with 156537 words\n",
      "Processing chunk with 156537 words\n",
      "Processing chunk with 8 words\n",
      "Chunk processed with 8 words\n",
      "Chunk processed with 156537 words\n",
      "Chunk processed with 156537 words\n",
      "Processing chunk with 156537 words\n",
      "Chunk processed with 156537 words\n",
      "Chunk processed with 156537 words\n",
      "Chunk processed with 156537 words\n",
      "Chunk processed with 156537 words\n",
      "Chunk processed with 156537 words\n",
      "Elapsed time: 1.88s\n"
     ]
    }
   ],
   "source": [
    "!python ./parallel_generate_probs.py ../data/movie_lines_processed.txt 4 -o movie-lines/movie-lines"
   ]
  },
  {
   "cell_type": "code",
   "execution_count": 62,
   "metadata": {},
   "outputs": [
    {
     "name": "stdout",
     "output_type": "stream",
     "text": [
      "Using 16 cores and chunk size of 10812\n",
      "Processing chunk with 10812 words\n",
      "Processing chunk with 10812 words\n",
      "Processing chunk with 10812 words\n",
      "Processing chunk with 10812 words\n",
      "Chunk processed with 10812 words\n",
      "Processing chunk with 10812 words\n",
      "Processing chunk with 10812 words\n",
      "Chunk processed with 10812 words\n",
      "Chunk processed with 10812 words\n",
      "Processing chunk with 10812 words\n",
      "Processing chunk with 10812 words\n",
      "Processing chunk with 10812 words\n",
      "Processing chunk with 10812 words\n",
      "Chunk processed with 10812 words\n",
      "Processing chunk with 10812 words\n",
      "Processing chunk with 10812 words\n",
      "Processing chunk with 10812 words\n",
      "Chunk processed with 10812 words\n",
      "Processing chunk with 10812 words\n",
      "Processing chunk with 10812 words\n",
      "Chunk processed with 10812 words\n",
      "Chunk processed with 10812 words\n",
      "Processing chunk with 10812 words\n",
      "Chunk processed with 10812 words\n",
      "Processing chunk with 2 words\n",
      "Chunk processed with 2 words\n",
      "Chunk processed with 10812 words\n",
      "Chunk processed with 10812 words\n",
      "Chunk processed with 10812 words\n",
      "Chunk processed with 10812 words\n",
      "Chunk processed with 10812 words\n",
      "Chunk processed with 10812 words\n",
      "Chunk processed with 10812 words\n",
      "Chunk processed with 10812 words\n",
      "Elapsed time: 0.55s\n"
     ]
    }
   ],
   "source": [
    "!python ./parallel_generate_probs.py ../data/movie_lines_filtered.txt 4 -o movie-lines/movie-lines-filtered"
   ]
  },
  {
   "cell_type": "markdown",
   "metadata": {},
   "source": [
    "Opening the probability file:"
   ]
  },
  {
   "cell_type": "code",
   "execution_count": 69,
   "metadata": {},
   "outputs": [],
   "source": [
    "with open('../data/out/movie-lines/movie-lines_probs.json', 'r') as f:\n",
    "    import json\n",
    "    probs = json.load(f)\n",
    "\n",
    "with open('../data/out/movie-lines/movie-lines-filtered_probs.json', 'r') as f:\n",
    "    import json\n",
    "    probs_filtered = json.load(f)"
   ]
  },
  {
   "cell_type": "markdown",
   "metadata": {},
   "source": [
    "### **Loading the Competitor Model**  "
   ]
  },
  {
   "cell_type": "code",
   "execution_count": 76,
   "metadata": {},
   "outputs": [
    {
     "data": {
      "text/plain": [
       "(48452, 48387)"
      ]
     },
     "execution_count": 76,
     "metadata": {},
     "output_type": "execute_result"
    }
   ],
   "source": [
    "with open('../data/out/kaggle/unigram_probs.json', 'r') as f:\n",
    "    import json\n",
    "    probs_kaggle = json.load(f)\n",
    "\n",
    "with open('../data/out/kaggle/unigram-filtered_probs.json', 'r') as f:\n",
    "    import json\n",
    "    probs_kaggle_filtered = json.load(f)\n",
    "\n",
    "len(probs_kaggle), len(probs_kaggle_filtered)"
   ]
  },
  {
   "cell_type": "markdown",
   "metadata": {},
   "source": [
    "# **Testing the Model**"
   ]
  },
  {
   "cell_type": "code",
   "execution_count": 65,
   "metadata": {},
   "outputs": [],
   "source": [
    "def evaluate_model(n, probs, test):\n",
    "    acc_exact = 0\n",
    "    acc_top3 = 0\n",
    "    acc_top5 = 0\n",
    "    total = 0\n",
    "\n",
    "    for word in test:\n",
    "        word = r'%'*(n-1) + str(word)\n",
    "        for idx in range(4, len(word)):\n",
    "            prev = word[idx - n:idx]\n",
    "            \n",
    "            nxt = word[idx]\n",
    "\n",
    "            if prev in probs:\n",
    "                if nxt == max(probs[prev], key=probs[prev].get):\n",
    "                    acc_exact += 1\n",
    "                if nxt in list(sorted(probs[prev], key=probs[prev].get, reverse=True))[:3]:\n",
    "                    acc_top3 += 1\n",
    "                if nxt in list(sorted(probs[prev], key=probs[prev].get, reverse=True))[:5]:\n",
    "                    acc_top5 += 1\n",
    "                total += 1\n",
    "\n",
    "    return acc_exact / total, acc_top3 / total, acc_top5 / total"
   ]
  },
  {
   "cell_type": "code",
   "execution_count": 66,
   "metadata": {},
   "outputs": [
    {
     "name": "stdout",
     "output_type": "stream",
     "text": [
      "(0.502656090816475, 0.7962087032455246, 0.9036166496870907)\n"
     ]
    }
   ],
   "source": [
    "print(evaluate_model(4, probs, words))"
   ]
  },
  {
   "cell_type": "code",
   "execution_count": 67,
   "metadata": {},
   "outputs": [
    {
     "name": "stdout",
     "output_type": "stream",
     "text": [
      "(0.3729395062702106, 0.6377868917107027, 0.7428424954649421)\n"
     ]
    }
   ],
   "source": [
    "print(evaluate_model(4, probs_filtered, words))"
   ]
  },
  {
   "cell_type": "code",
   "execution_count": 68,
   "metadata": {},
   "outputs": [
    {
     "name": "stdout",
     "output_type": "stream",
     "text": [
      "(0.46188422082865116, 0.7519483814840323, 0.8671838184652191)\n"
     ]
    }
   ],
   "source": [
    "print(evaluate_model(4, probs_kaggle, words))"
   ]
  },
  {
   "cell_type": "code",
   "execution_count": 73,
   "metadata": {},
   "outputs": [
    {
     "name": "stdout",
     "output_type": "stream",
     "text": [
      "(0.46188422082865116, 0.7519483814840323, 0.8671838184652191)\n"
     ]
    }
   ],
   "source": [
    "print(evaluate_model(4, probs_kaggle_filtered, words))"
   ]
  },
  {
   "cell_type": "markdown",
   "metadata": {},
   "source": [
    "## Hard Testing\n",
    "\n",
    "Let's put the \"overfitting\" models to the test with very unusual words"
   ]
  },
  {
   "cell_type": "code",
   "execution_count": 81,
   "metadata": {},
   "outputs": [
    {
     "data": {
      "text/plain": [
       "['abaxial',\n",
       " 'dorsal',\n",
       " 'adaxial',\n",
       " 'ventral',\n",
       " 'acroscopic',\n",
       " 'basiscopic',\n",
       " 'abducent',\n",
       " 'abducting',\n",
       " 'adducent',\n",
       " 'adductive']"
      ]
     },
     "execution_count": 81,
     "metadata": {},
     "output_type": "execute_result"
    }
   ],
   "source": [
    "with open('../data/wordnet_words.txt', 'r') as f:\n",
    "    wordnet_words = f.readlines()\n",
    "\n",
    "wordnet_words = list(map(lambda x: x.replace('\\n', ''), wordnet_words))\n",
    "\n",
    "wordnet_words[:10]"
   ]
  },
  {
   "cell_type": "code",
   "execution_count": 82,
   "metadata": {},
   "outputs": [
    {
     "name": "stdout",
     "output_type": "stream",
     "text": [
      "(0.2979290515771714, 0.5340829792684327, 0.6316635603176426)\n"
     ]
    }
   ],
   "source": [
    "print(evaluate_model(4, probs, wordnet_words))"
   ]
  },
  {
   "cell_type": "code",
   "execution_count": 84,
   "metadata": {},
   "outputs": [
    {
     "name": "stdout",
     "output_type": "stream",
     "text": [
      "(0.3162795166611, 0.532603871652567, 0.6229393813225478)\n"
     ]
    }
   ],
   "source": [
    "print(evaluate_model(4, probs_filtered, wordnet_words))"
   ]
  },
  {
   "cell_type": "code",
   "execution_count": 85,
   "metadata": {},
   "outputs": [
    {
     "name": "stdout",
     "output_type": "stream",
     "text": [
      "(0.39374438409685364, 0.666887361807857, 0.7838091011280917)\n"
     ]
    }
   ],
   "source": [
    "print(evaluate_model(4, probs_kaggle, wordnet_words))"
   ]
  },
  {
   "cell_type": "code",
   "execution_count": 86,
   "metadata": {},
   "outputs": [
    {
     "name": "stdout",
     "output_type": "stream",
     "text": [
      "(0.3944891874043767, 0.6674847139169303, 0.7841283066785766)\n"
     ]
    }
   ],
   "source": [
    "print(evaluate_model(4, probs_kaggle_filtered, wordnet_words))"
   ]
  },
  {
   "cell_type": "markdown",
   "metadata": {},
   "source": [
    "## Soft testing\n",
    "\n",
    "Let's test the model with some common words"
   ]
  },
  {
   "cell_type": "code",
   "execution_count": 90,
   "metadata": {},
   "outputs": [
    {
     "data": {
      "text/plain": [
       "['the', 'of', 'and', 'to', 'a', 'in', 'that', 'was', 'he', 'his']"
      ]
     },
     "execution_count": 90,
     "metadata": {},
     "output_type": "execute_result"
    }
   ],
   "source": [
    "words100k = []\n",
    "with open('../data/wiki-100k.txt', 'r', encoding='utf-8') as f:\n",
    "    curr = f.read().splitlines()\n",
    "\n",
    "    for line in curr: # reading all lines and ignoring comments\n",
    "        if line and line[0] != '#':\n",
    "            words100k.extend(line.split())\n",
    "    \n",
    "    words100k = np.array(words100k)\n",
    "\n",
    "words100k = [word for word in words100k if word.islower() and word.isalpha()]\n",
    "\n",
    "words100k = words100k[:10000]\n",
    "\n",
    "words100k[:10]"
   ]
  },
  {
   "cell_type": "code",
   "execution_count": 91,
   "metadata": {},
   "outputs": [
    {
     "name": "stdout",
     "output_type": "stream",
     "text": [
      "(0.4511650413161617, 0.7439700736990993, 0.8560820367751061)\n"
     ]
    }
   ],
   "source": [
    "print(evaluate_model(4, probs, words100k))"
   ]
  },
  {
   "cell_type": "code",
   "execution_count": 92,
   "metadata": {},
   "outputs": [
    {
     "name": "stdout",
     "output_type": "stream",
     "text": [
      "(0.410055887603819, 0.6773849258713033, 0.7810680742063184)\n"
     ]
    }
   ],
   "source": [
    "print(evaluate_model(4, probs_filtered, words100k))"
   ]
  },
  {
   "cell_type": "code",
   "execution_count": 93,
   "metadata": {},
   "outputs": [
    {
     "name": "stdout",
     "output_type": "stream",
     "text": [
      "(0.4734987440591286, 0.7749787664672823, 0.8906698953683791)\n"
     ]
    }
   ],
   "source": [
    "print(evaluate_model(4, probs_kaggle, words100k))"
   ]
  },
  {
   "cell_type": "code",
   "execution_count": 94,
   "metadata": {},
   "outputs": [
    {
     "name": "stdout",
     "output_type": "stream",
     "text": [
      "(0.4565272450973298, 0.7584846949851654, 0.8762573268688039)\n"
     ]
    }
   ],
   "source": [
    "print(evaluate_model(4, probs_kaggle_filtered, words100k))"
   ]
  }
 ],
 "metadata": {
  "kernelspec": {
   "display_name": "env",
   "language": "python",
   "name": "python3"
  },
  "language_info": {
   "codemirror_mode": {
    "name": "ipython",
    "version": 3
   },
   "file_extension": ".py",
   "mimetype": "text/x-python",
   "name": "python",
   "nbconvert_exporter": "python",
   "pygments_lexer": "ipython3",
   "version": "3.11.9"
  }
 },
 "nbformat": 4,
 "nbformat_minor": 2
}
